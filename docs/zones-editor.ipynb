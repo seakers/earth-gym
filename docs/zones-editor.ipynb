{
 "cells": [
  {
   "cell_type": "markdown",
   "metadata": {},
   "source": [
    "# <span style=\"font-weight:bold; font-style:italic;\">Event Zones Editor for <span style=\"color:limegreen;\">Earth</span> <span style=\"color:dodgerblue;\">Gym</span></span>\n",
    "\n",
    "The original database is:\n",
    "\n",
    "- Set of random points on Earth\n",
    "- Set of around 47k locations of world cities\n",
    "\n",
    "The second one is highly biased towards the most populated areas. Here, some code regarding modification of these `.csv` files will take place."
   ]
  },
  {
   "cell_type": "markdown",
   "metadata": {},
   "source": [
    "## Existing files\n",
    "\n",
    "Modifying exisitng files, such as the ones mentioned above."
   ]
  },
  {
   "cell_type": "markdown",
   "metadata": {},
   "source": [
    "### Edit Columns\n",
    "\n",
    "Remove unnecessary columns, rename them, and add the necessary ones."
   ]
  },
  {
   "cell_type": "code",
   "execution_count": 25,
   "metadata": {},
   "outputs": [],
   "source": [
    "import pandas as pd\n",
    "import random\n",
    "\n",
    "filename_in = \"random-land-points.csv\"\n",
    "\n",
    "df = pd.read_csv(filename_in)\n",
    "\n",
    "# df = df[[\"lat\", \"lng\"]] # select columns in the case of world-cities.csv\n",
    "\n",
    "# Rename columns\n",
    "df.columns = [\"lat [deg]\", \"lon [deg]\"]\n",
    "\n",
    "def division(x):\n",
    "    return x % 5\n",
    "\n",
    "for i in range(df.shape[0]):\n",
    "    df.loc[i, \"priority\"] = random.randint(1, 10)\n",
    "    df.loc[i, \"duration [s]\"] = random.randint(3600, 14400)\n",
    "\n",
    "filename_out = filename_in.split(\".\")[0] + \"-changed.csv\"\n",
    "\n",
    "df.to_csv(filename_out, index=False)"
   ]
  },
  {
   "cell_type": "markdown",
   "metadata": {},
   "source": [
    "### Add Random Zones\n",
    "\n",
    "With the random zones file, add **n more rows** to it."
   ]
  },
  {
   "cell_type": "code",
   "execution_count": null,
   "metadata": {},
   "outputs": [],
   "source": [
    "import pandas as pd\n",
    "import random\n",
    "\n",
    "filename_in = \"random-zones.csv\"\n",
    "\n",
    "df = pd.read_csv(filename_in)\n",
    "\n",
    "n = 1e5\n",
    "\n",
    "data = {\n",
    "    \"lat [deg]\": [random.uniform(-90, 90) for _ in range(n)],\n",
    "    \"lon [deg]\": [random.uniform(-180, 180) for _ in range(n)],\n",
    "    \"priority\": [random.randint(1, 10) for _ in range(n)],\n",
    "    \"duration [s]\": [random.randint(3600, 14400) for _ in range(n)],\n",
    "}\n",
    "\n",
    "df = pd.concat([df, pd.DataFrame(data)])\n",
    "\n",
    "filename_out = filename_in.split(\".\")[0] + \"-changed.csv\"\n",
    "\n",
    "df.to_csv(filename_out, index=False)"
   ]
  },
  {
   "cell_type": "markdown",
   "metadata": {},
   "source": [
    "## New Files\n",
    "\n",
    "Generate new files with the desired scenario properties."
   ]
  },
  {
   "cell_type": "code",
   "execution_count": 23,
   "metadata": {},
   "outputs": [
    {
     "name": "stderr",
     "output_type": "stream",
     "text": [
      "C:\\Users\\gerardmr\\AppData\\Local\\Temp\\ipykernel_14304\\3140205211.py:7: FutureWarning: The geopandas.dataset module is deprecated and will be removed in GeoPandas 1.0. You can get the original 'naturalearth_lowres' data from https://www.naturalearthdata.com/downloads/110m-cultural-vectors/.\n",
      "  land = gpd.read_file(gpd.datasets.get_path(\"naturalearth_lowres\"))\n"
     ]
    }
   ],
   "source": [
    "import pandas as pd\n",
    "import geopandas as gpd\n",
    "import random\n",
    "from shapely.geometry import Point\n",
    "\n",
    "# Load the shapefile with land boundaries\n",
    "land = gpd.read_file(gpd.datasets.get_path(\"naturalearth_lowres\"))\n",
    "\n",
    "# Define a function to generate random points on land\n",
    "def generate_random_land_points(n):\n",
    "    points = []\n",
    "    while len(points) < n:\n",
    "        # Generate random latitude and longitude\n",
    "        lon = random.uniform(-180, 180)\n",
    "        lat = random.uniform(-90, 90)\n",
    "        point = Point(lon, lat)\n",
    "        \n",
    "        # Check if the point is within land boundaries\n",
    "        if any(land.contains(point)):\n",
    "            points.append({\"lat [deg]\": lat, \"lon [deg]\": lon})\n",
    "    return points\n",
    "\n",
    "# Define the number of points to generate\n",
    "n = 1e5\n",
    "\n",
    "# Generate n random points on land\n",
    "dataset = generate_random_land_points(n)\n",
    "\n",
    "# Convert the dataset to a DataFrame\n",
    "df = pd.DataFrame(dataset)\n",
    "\n",
    "# Output filename\n",
    "filename_out = \"random-land-points.csv\"\n",
    "\n",
    "# Save the dataset to a CSV file\n",
    "df.to_csv(filename_out, index=False)"
   ]
  }
 ],
 "metadata": {
  "kernelspec": {
   "display_name": "stk",
   "language": "python",
   "name": "python3"
  },
  "language_info": {
   "codemirror_mode": {
    "name": "ipython",
    "version": 3
   },
   "file_extension": ".py",
   "mimetype": "text/x-python",
   "name": "python",
   "nbconvert_exporter": "python",
   "pygments_lexer": "ipython3",
   "version": "3.12.7"
  }
 },
 "nbformat": 4,
 "nbformat_minor": 2
}
